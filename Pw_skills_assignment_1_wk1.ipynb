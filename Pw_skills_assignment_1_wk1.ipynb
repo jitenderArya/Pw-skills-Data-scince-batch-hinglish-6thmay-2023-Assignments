{
  "nbformat": 4,
  "nbformat_minor": 0,
  "metadata": {
    "colab": {
      "provenance": [],
      "include_colab_link": true
    },
    "kernelspec": {
      "name": "python3",
      "display_name": "Python 3"
    },
    "language_info": {
      "name": "python"
    }
  },
  "cells": [
    {
      "cell_type": "markdown",
      "metadata": {
        "id": "view-in-github",
        "colab_type": "text"
      },
      "source": [
        "<a href=\"https://colab.research.google.com/github/jitenderArya/Pw-skills-assignment-week-1/blob/main/Pw_skills_assignment_1_wk1.ipynb\" target=\"_parent\"><img src=\"https://colab.research.google.com/assets/colab-badge.svg\" alt=\"Open In Colab\"/></a>"
      ]
    },
    {
      "cell_type": "markdown",
      "source": [
        "Q1. Create one variable containing following type of data:\n",
        "\n",
        "(i) string\n",
        "\n",
        "(ii) list\n",
        "\n",
        "(iii) float\n",
        "\n",
        "(iv) tuple\n",
        "\n",
        "**Answer with output below**"
      ],
      "metadata": {
        "id": "SBvXjYiIBvbB"
      }
    },
    {
      "cell_type": "code",
      "source": [
        "a='Hi i am jitender Arya and starting upgrading my self with the help of Pw skills '\n",
        "b=[1,2,3,'jitender arya',2.34, True]\n",
        "c=2.34\n",
        "D=(1,2,'jitendedr Arya',52.6,6+7j)\n",
        "print(type(a), type(b), type(c), type(D))"
      ],
      "metadata": {
        "colab": {
          "base_uri": "https://localhost:8080/"
        },
        "id": "UkiFOHqsHNII",
        "outputId": "0c208e36-6ffd-48ec-9738-539b0437bd06"
      },
      "execution_count": null,
      "outputs": [
        {
          "output_type": "stream",
          "name": "stdout",
          "text": [
            "<class 'str'> <class 'list'> <class 'float'> <class 'tuple'>\n"
          ]
        }
      ]
    },
    {
      "cell_type": "markdown",
      "source": [
        "Q2. Given are some following variables containing data:\n",
        "\n",
        "(i) var1 = ‘ ‘\n",
        "\n",
        "(ii) var2 = ‘[ DS , ML , Python]’\n",
        "\n",
        "(iii) var3 = [ ‘DS’ , ’ML’ , ‘Python’ ]\n",
        "\n",
        "(iv) var4 = 1.\n",
        "\n",
        "\n",
        "What will be the data type of the above given variable.\n",
        "\n",
        "\n",
        "**Answer with output below**\n"
      ],
      "metadata": {
        "id": "WYOxSIQgLSDT"
      }
    },
    {
      "cell_type": "code",
      "source": [
        "var1 = ''\n",
        "\n",
        "var2 = '[ DS , ML , Python]'\n",
        "\n",
        "var3 = [ 'DS' ,'ML' , 'Python' ]\n",
        "\n",
        "var4 = 1.\n",
        "\n",
        "print(type(var1), type(var2), type(var3), type(var4))"
      ],
      "metadata": {
        "colab": {
          "base_uri": "https://localhost:8080/"
        },
        "id": "yLS9nouZLWGl",
        "outputId": "e24051ed-b818-470c-867f-ba6e7040b9de"
      },
      "execution_count": null,
      "outputs": [
        {
          "output_type": "stream",
          "name": "stdout",
          "text": [
            "<class 'str'> <class 'str'> <class 'list'> <class 'float'>\n"
          ]
        }
      ]
    },
    {
      "cell_type": "markdown",
      "source": [
        "Q3. Explain the use of the following operators using an example:\n",
        "\n",
        "(i) /\n",
        "\n",
        "(ii) %\n",
        "\n",
        "(iii) //\n",
        "\n",
        "(iv) **\n",
        "\n",
        "**Answer with output below**\n",
        "\n"
      ],
      "metadata": {
        "id": "rD4z8zxhOptM"
      }
    },
    {
      "cell_type": "markdown",
      "source": [
        "**operator /(divison)** is arthmatic operator which is use for divison\n",
        "let 10 divided by 3. so 10 must be the left side of the \"/\" and 3 must be right side of the \"/\". and its shows **equotient** as output with decimals .\n",
        "ex.\n",
        "10/3=3.3333333333333335\n",
        "\n",
        "\n",
        "**Operator //(floor divison) is arthmatic operator which is use for divison**\n",
        " its shows **equotient** as output without decimals.\n",
        "ex.\n",
        "10//3=3\n",
        "\n",
        "**Operator %(Modulus) is arthmatic operator which is use for divison**\n",
        " its shows **Remainder** as output.\n",
        "ex.\n",
        "10%3=1\n",
        "\n",
        "\n",
        "Operator **(Exponent) is arthmatic operator which is use for Exponential calculations\n",
        "ex\n",
        "2 *  *2=4\n",
        "\n",
        "examples are below\n",
        "\n"
      ],
      "metadata": {
        "id": "JQ3U6eRBS4pn"
      }
    },
    {
      "cell_type": "code",
      "source": [
        "d=10/3\n",
        "e=10//3\n",
        "f=10%3\n",
        "g=2**2\n",
        "\n",
        "print(d)\n",
        "print(e)\n",
        "print(f)\n",
        "print(g)\n",
        "\n"
      ],
      "metadata": {
        "colab": {
          "base_uri": "https://localhost:8080/"
        },
        "id": "HZdzEvYzaiLB",
        "outputId": "6a4a1836-f585-4c27-b4e6-92536c1f8581"
      },
      "execution_count": null,
      "outputs": [
        {
          "output_type": "stream",
          "name": "stdout",
          "text": [
            "3.3333333333333335\n",
            "3\n",
            "1\n",
            "4\n"
          ]
        }
      ]
    },
    {
      "cell_type": "code",
      "source": [],
      "metadata": {
        "id": "IOPD9rz-hnQL"
      },
      "execution_count": null,
      "outputs": []
    },
    {
      "cell_type": "markdown",
      "source": [
        "Q4. Create a list of length 10 of your choice containing multiple types of data. Using for loop print the\n",
        "element and its data type.\n",
        "\n"
      ],
      "metadata": {
        "id": "pw5qg2Bbdnme"
      }
    },
    {
      "cell_type": "code",
      "source": [
        "h=[1,'jitender arya',6+3j,69.5,True,(5,6,'ja',256),'Pw skills',False,[1,2,'kmj',85],{\"Name\":\"karan\",\"Age\":\"26\"},{1,2,3,4,5}]\n",
        "\n",
        "for i in h:\n",
        "  print(i,type(i))\n"
      ],
      "metadata": {
        "colab": {
          "base_uri": "https://localhost:8080/"
        },
        "id": "lgeS2x8AdrHy",
        "outputId": "bfed1439-315c-43b0-f42f-75714b405059"
      },
      "execution_count": null,
      "outputs": [
        {
          "output_type": "stream",
          "name": "stdout",
          "text": [
            "1 <class 'int'>\n",
            "jitender arya <class 'str'>\n",
            "(6+3j) <class 'complex'>\n",
            "69.5 <class 'float'>\n",
            "True <class 'bool'>\n",
            "(5, 6, 'ja', 256) <class 'tuple'>\n",
            "Pw skills <class 'str'>\n",
            "False <class 'bool'>\n",
            "[1, 2, 'kmj', 85] <class 'list'>\n",
            "{'Name': 'karan', 'Age': '26'} <class 'dict'>\n",
            "{1, 2, 3, 4, 5} <class 'set'>\n"
          ]
        }
      ]
    },
    {
      "cell_type": "code",
      "source": [],
      "metadata": {
        "id": "TqNDdiV8e0GZ"
      },
      "execution_count": null,
      "outputs": []
    },
    {
      "cell_type": "markdown",
      "source": [
        "Q5. Using a while loop, verify if the number A is purely divisible by number B and if so then how many\n",
        "times it can be divisible.\n",
        "\n"
      ],
      "metadata": {
        "id": "E0tFa_yLhjq0"
      }
    },
    {
      "cell_type": "code",
      "source": [
        "i =int(input(\"Enter the number:\"))\n",
        "j = int(input(\"Enter the number:\"))\n",
        "count = 0\n",
        "original_number = i\n",
        "while i % j == 0:\n",
        "  i //= j\n",
        "  count += 1\n",
        "\n",
        "if count > 0:\n",
        "    print(original_number, \"is divisible by\", j , \",\" , count,\"times\" )\n",
        "else:\n",
        "    print(original_number, \"is not divisible by\", \",\" , j)"
      ],
      "metadata": {
        "id": "l959LB6wp67H",
        "colab": {
          "base_uri": "https://localhost:8080/"
        },
        "outputId": "c54af76b-fc0c-48dc-84d8-138fca20e752"
      },
      "execution_count": null,
      "outputs": [
        {
          "output_type": "stream",
          "name": "stdout",
          "text": [
            "Enter the number:16\n",
            "Enter the number:2\n",
            "16 is divisible by 2 , 4 times\n"
          ]
        }
      ]
    },
    {
      "cell_type": "code",
      "source": [],
      "metadata": {
        "id": "FRRC_2JV2bBh"
      },
      "execution_count": null,
      "outputs": []
    },
    {
      "cell_type": "markdown",
      "source": [
        "Q6. Create a list containing 25 int type data. Using for loop and if-else condition print if the element is\n",
        "divisible by 3 or not.\n",
        "\n"
      ],
      "metadata": {
        "id": "gB56u1mC7mOE"
      }
    },
    {
      "cell_type": "code",
      "source": [
        "number=[num for num in range(2,31)]\n",
        "print(number)"
      ],
      "metadata": {
        "colab": {
          "base_uri": "https://localhost:8080/"
        },
        "id": "2zRXKaLd8XKy",
        "outputId": "66b616dd-6431-4167-e524-874f7233f3e6"
      },
      "execution_count": null,
      "outputs": [
        {
          "output_type": "stream",
          "name": "stdout",
          "text": [
            "[2, 3, 4, 5, 6, 7, 8, 9, 10, 11, 12, 13, 14, 15, 16, 17, 18, 19, 20, 21, 22, 23, 24, 25, 26, 27, 28, 29, 30]\n"
          ]
        }
      ]
    },
    {
      "cell_type": "code",
      "source": [
        "k=[2, 3, 4, 5, 6, 7, 8, 9, 10, 11, 12, 13, 14, 15, 16, 17, 18, 19, 20, 21, 22, 23, 24, 25, 26, 27, 28, 29, 30]\n",
        "for i in k:\n",
        "    if i % 3 ==0:\n",
        "        print(i,\"is divisible by\",3)\n",
        "    else:\n",
        "        print(i,\"not divisible by\",3)\n"
      ],
      "metadata": {
        "colab": {
          "base_uri": "https://localhost:8080/"
        },
        "id": "PymPFptH8i0D",
        "outputId": "77084d7b-7a57-4865-9de5-aad4942087cd"
      },
      "execution_count": null,
      "outputs": [
        {
          "output_type": "stream",
          "name": "stdout",
          "text": [
            "2 not divisible by 3\n",
            "3 is divisible by 3\n",
            "4 not divisible by 3\n",
            "5 not divisible by 3\n",
            "6 is divisible by 3\n",
            "7 not divisible by 3\n",
            "8 not divisible by 3\n",
            "9 is divisible by 3\n",
            "10 not divisible by 3\n",
            "11 not divisible by 3\n",
            "12 is divisible by 3\n",
            "13 not divisible by 3\n",
            "14 not divisible by 3\n",
            "15 is divisible by 3\n",
            "16 not divisible by 3\n",
            "17 not divisible by 3\n",
            "18 is divisible by 3\n",
            "19 not divisible by 3\n",
            "20 not divisible by 3\n",
            "21 is divisible by 3\n",
            "22 not divisible by 3\n",
            "23 not divisible by 3\n",
            "24 is divisible by 3\n",
            "25 not divisible by 3\n",
            "26 not divisible by 3\n",
            "27 is divisible by 3\n",
            "28 not divisible by 3\n",
            "29 not divisible by 3\n",
            "30 is divisible by 3\n"
          ]
        }
      ]
    },
    {
      "cell_type": "code",
      "source": [],
      "metadata": {
        "id": "lXvw7rE7AC0D"
      },
      "execution_count": null,
      "outputs": []
    },
    {
      "cell_type": "markdown",
      "source": [
        "Q7.  What do you understand about mutable and immutable data types? Give examples for both showing\n",
        "this property."
      ],
      "metadata": {
        "id": "5D3Qgx3hhGGb"
      }
    },
    {
      "cell_type": "markdown",
      "source": [
        "Immutable data types:\n",
        "- Immutable data types cannot be changed once created.\n",
        "- Examples:\n",
        "  - Integer: `x = 5` (The value of `x` cannot be modified.)\n",
        "  - Float: `pi = 3.14` (The value of `pi` cannot be modified.)\n",
        "  - String: `name = \"John\"` (The value of `name` cannot be modified.)\n",
        "  - Tuple: `point = (2, 3)` (The elements in `point` cannot be modified.)\n",
        "\n",
        "Mutable data types:\n",
        "- Mutable data types can be modified after creation.\n",
        "- Examples:\n",
        "  - List: `numbers = [1, 2, 3]` (Elements in `numbers` can be modified: `numbers[0] = 4`)\n",
        "  - Dictionary: `person = {\"name\": \"John\", \"age\": 25}` (Values in `person` can be modified: `person[\"age\"] = 26`)\n",
        "  - Set: `fruits = {\"apple\", \"banana\", \"cherry\"}` (Elements in `fruits` can be modified: `fruits.add(\"orange\")`)\n",
        "\n",
        "In summary, immutable data types cannot be changed, while mutable data types allow modifications to their values after creation."
      ],
      "metadata": {
        "id": "33v-K7pGhPUD"
      }
    }
  ]
}