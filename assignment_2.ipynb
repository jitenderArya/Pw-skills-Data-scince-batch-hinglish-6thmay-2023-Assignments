{
  "nbformat": 4,
  "nbformat_minor": 0,
  "metadata": {
    "colab": {
      "provenance": [],
      "authorship_tag": "ABX9TyM6TlJrJvVRJuHnpiimujbA",
      "include_colab_link": true
    },
    "kernelspec": {
      "name": "python3",
      "display_name": "Python 3"
    },
    "language_info": {
      "name": "python"
    }
  },
  "cells": [
    {
      "cell_type": "markdown",
      "metadata": {
        "id": "view-in-github",
        "colab_type": "text"
      },
      "source": [
        "<a href=\"https://colab.research.google.com/github/jitenderArya/Pw-skills-assignment-week-1/blob/main/assignment_2.ipynb\" target=\"_parent\"><img src=\"https://colab.research.google.com/assets/colab-badge.svg\" alt=\"Open In Colab\"/></a>"
      ]
    },
    {
      "cell_type": "code",
      "source": [
        "\n"
      ],
      "metadata": {
        "id": "c6tHIcNuNwaQ"
      },
      "execution_count": null,
      "outputs": []
    },
    {
      "cell_type": "markdown",
      "source": [
        "Q1. How do you comment code in Python? What are the different types of comments?\n"
      ],
      "metadata": {
        "id": "Y0q3_k5Xao3a"
      }
    },
    {
      "cell_type": "code",
      "source": [
        "# for single line comment we use \"#\" at the starting of the line\n",
        "#For multi line coment we use \"\"\" tripple at the starting of the line and at the end of line"
      ],
      "metadata": {
        "id": "fY3YX9Z-aDPv"
      },
      "execution_count": null,
      "outputs": []
    },
    {
      "cell_type": "markdown",
      "source": [
        "Q2. What are variables in Python? How do you declare and assign values to variables?\n"
      ],
      "metadata": {
        "id": "98WyBgy53LDf"
      }
    },
    {
      "cell_type": "code",
      "source": [
        "# variable is name and lable which is use to store data. variable contains data assigned into it eg A =123( where \"\"A is variable and \"123\" is data assigned in it)\n",
        "# variavbles are case sensitive eg. KARAN AGE = 25, karan age = 26 , Karan Age = 27. python will take all this as different varibale.\n",
        "# we use \"=\" sign for assignment to a variable\n",
        "#we can use multiple assignment at a single line eg A,B,C = 10, 20, 30 .where 10 is asiigned to A, 20 is assigned to B, 30 is assigned to C"
      ],
      "metadata": {
        "id": "s4EM8xMd3Nmn"
      },
      "execution_count": null,
      "outputs": []
    },
    {
      "cell_type": "markdown",
      "source": [
        "Q3. How do you convert one data type to another in Python?\n"
      ],
      "metadata": {
        "id": "ET9OSr8F7wnS"
      }
    },
    {
      "cell_type": "code",
      "source": [
        "# Ans =in python we convert a data type to another data type by using data typecasting\n",
        "# eg.\n",
        "l= 123\n",
        "type(l)\n",
        "print(\"data type of:\",l,\"is\",type(l),\"before typecasting\")\n",
        "l=str(l)\n",
        "print(\"data type of:\",l,\"is\",type(l),\"After typecasting\")"
      ],
      "metadata": {
        "id": "F9yy1SuR7yxj",
        "colab": {
          "base_uri": "https://localhost:8080/"
        },
        "outputId": "100efc80-1c4a-48ee-cd53-1aa546e3aaa7"
      },
      "execution_count": null,
      "outputs": [
        {
          "output_type": "stream",
          "name": "stdout",
          "text": [
            "data type of: 123 is <class 'int'> before typecasting\n",
            "data type of: 123 is <class 'str'> After typecasting\n"
          ]
        }
      ]
    },
    {
      "cell_type": "markdown",
      "source": [
        "4.How do you write and execute a Python script from the command line?\n"
      ],
      "metadata": {
        "id": "Ljt5OVq3gTDL"
      }
    },
    {
      "cell_type": "code",
      "source": [
        "# o execute the script from the command line, we need to have Python installed on our computer. we can then navigate to the directory where our script is located using the cd command and run the script using the python command followed by the name of our script. For example: cd/path/to/script python myscript.py"
      ],
      "metadata": {
        "id": "df9bixC2dTKk"
      },
      "execution_count": null,
      "outputs": []
    },
    {
      "cell_type": "markdown",
      "source": [
        "Q5. Given a list my_list = [1, 2, 3, 4, 5], write the code to slice the list and obtain the sub-list [2, 3].\n",
        "  "
      ],
      "metadata": {
        "id": "Ckrv2pFldog3"
      }
    },
    {
      "cell_type": "code",
      "source": [
        "my_list = [1,2,3,4,5]\n",
        "print(\"sub-list\", my_list[1:3:])"
      ],
      "metadata": {
        "colab": {
          "base_uri": "https://localhost:8080/"
        },
        "id": "OqSB3W5jOA_a",
        "outputId": "89ecd07c-9dc9-42ea-e0bf-c8cb3f51d3f2"
      },
      "execution_count": null,
      "outputs": [
        {
          "output_type": "stream",
          "name": "stdout",
          "text": [
            "sub-list [2, 3]\n"
          ]
        }
      ]
    },
    {
      "cell_type": "markdown",
      "source": [
        "Q6. What is a complex number in mathematics, and how is it represented in Python?\n"
      ],
      "metadata": {
        "id": "Gcy-XjIBRoFD"
      }
    },
    {
      "cell_type": "code",
      "source": [
        "\n",
        "#in mathemetics complex number contains numeric and afphabetic keyword together. in pythone its represented as complex data types 1 real number and one imagenary number\n",
        "# for example\n",
        "\n",
        "a = 5 +6j\n",
        "print(\"iamgenary\",a.imag ,\",\" ,\"real\", a.real)"
      ],
      "metadata": {
        "colab": {
          "base_uri": "https://localhost:8080/"
        },
        "id": "2GIemVE-Pesx",
        "outputId": "40bdd900-3c48-4fef-ae1b-bcbc46214e70"
      },
      "execution_count": null,
      "outputs": [
        {
          "output_type": "stream",
          "name": "stdout",
          "text": [
            "iamgenary 6.0 , real 5.0\n"
          ]
        }
      ]
    },
    {
      "cell_type": "markdown",
      "source": [
        "Q7. What is the correct way to declare a variable named age and assign the value 25 to it?\n"
      ],
      "metadata": {
        "id": "M9b1BOMbT168"
      }
    },
    {
      "cell_type": "code",
      "source": [
        "age =25"
      ],
      "metadata": {
        "id": "uowW-_wVPopf"
      },
      "execution_count": null,
      "outputs": []
    },
    {
      "cell_type": "markdown",
      "source": [
        "Q8. Declare a variable named price and assign the value 9.99 to it. What data type does this variable\n",
        "belong to?\n"
      ],
      "metadata": {
        "id": "0_nFyP9SWk1h"
      }
    },
    {
      "cell_type": "code",
      "source": [
        "price = 9.99\n",
        "print(\"Data type of price is\", type(price))"
      ],
      "metadata": {
        "colab": {
          "base_uri": "https://localhost:8080/"
        },
        "id": "NN6m26k0WcV_",
        "outputId": "28a539a8-ad74-4d68-fe3f-1b85b9c98b58"
      },
      "execution_count": null,
      "outputs": [
        {
          "output_type": "stream",
          "name": "stdout",
          "text": [
            "Data type of price is <class 'float'>\n"
          ]
        }
      ]
    },
    {
      "cell_type": "markdown",
      "source": [
        "Q9. Create a variable named name and assign your full name to it as a string. How would you print the\n",
        "value of this variable?\n"
      ],
      "metadata": {
        "id": "kWNbjc-rXP0C"
      }
    },
    {
      "cell_type": "code",
      "source": [
        "name = \"Jitender Arya\"\n",
        "print(name)"
      ],
      "metadata": {
        "colab": {
          "base_uri": "https://localhost:8080/"
        },
        "id": "dRyDL3rVW-cD",
        "outputId": "23243e69-2ac3-423e-c11c-b60a715135d9"
      },
      "execution_count": null,
      "outputs": [
        {
          "output_type": "stream",
          "name": "stdout",
          "text": [
            "Jitender Arya\n"
          ]
        }
      ]
    },
    {
      "cell_type": "code",
      "source": [],
      "metadata": {
        "id": "nftNQ3pyXdRa"
      },
      "execution_count": null,
      "outputs": []
    },
    {
      "cell_type": "markdown",
      "source": [
        "Q10. Given the string \"Hello, World!\", extract the substring \"World"
      ],
      "metadata": {
        "id": "7xzpcSvBXlUm"
      }
    },
    {
      "cell_type": "code",
      "source": [
        "c =\"Hello, world\""
      ],
      "metadata": {
        "id": "2MzsnAkHX2aQ"
      },
      "execution_count": null,
      "outputs": []
    },
    {
      "cell_type": "code",
      "source": [
        "c[7:12]"
      ],
      "metadata": {
        "colab": {
          "base_uri": "https://localhost:8080/",
          "height": 35
        },
        "id": "WGriIM0EYER_",
        "outputId": "60b562a8-1835-4c04-ebe1-fdc4c664c829"
      },
      "execution_count": null,
      "outputs": [
        {
          "output_type": "execute_result",
          "data": {
            "text/plain": [
              "'world'"
            ],
            "application/vnd.google.colaboratory.intrinsic+json": {
              "type": "string"
            }
          },
          "metadata": {},
          "execution_count": 3
        }
      ]
    },
    {
      "cell_type": "markdown",
      "source": [
        "Q11. Create a variable named \"is_student\" and assign it a boolean value indicating whether you are\n",
        "currently a student or not."
      ],
      "metadata": {
        "id": "6Llw9yGBZxtQ"
      }
    },
    {
      "cell_type": "code",
      "source": [
        "is_student = True"
      ],
      "metadata": {
        "id": "wTPe62VVZHrG"
      },
      "execution_count": null,
      "outputs": []
    }
  ]
}